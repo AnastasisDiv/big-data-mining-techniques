{
 "cells": [
  {
   "cell_type": "code",
   "execution_count": null,
   "metadata": {},
   "outputs": [],
   "source": [
    "%pip install numpy pandas"
   ]
  },
  {
   "cell_type": "markdown",
   "metadata": {},
   "source": [
    "## Load and Preprocess the Dataset"
   ]
  },
  {
   "cell_type": "code",
   "execution_count": 1,
   "metadata": {},
   "outputs": [],
   "source": [
    "import pandas as pd\n",
    "\n",
    "# Load dataset \n",
    "dataset_path = 'dtw_test.csv'\n",
    "data = pd.read_csv(dataset_path)"
   ]
  },
  {
   "cell_type": "code",
   "execution_count": 2,
   "metadata": {},
   "outputs": [],
   "source": [
    "import numpy as np\n",
    "\n",
    "# Convert string representation of lists to actual lists\n",
    "data['series_a'] = data['series_a'].apply(lambda x: np.array(eval(x)))\n",
    "data['series_b'] = data['series_b'].apply(lambda x: np.array(eval(x)))"
   ]
  },
  {
   "cell_type": "markdown",
   "metadata": {},
   "source": [
    "## Dynamic Time Warping (DTW) Implementation"
   ]
  },
  {
   "cell_type": "code",
   "execution_count": 3,
   "metadata": {},
   "outputs": [],
   "source": [
    "# Euclidean Distance Calculation\n",
    "def euclidean_distance(a, b):\n",
    "    return np.sqrt((a - b) ** 2)"
   ]
  },
  {
   "cell_type": "code",
   "execution_count": 4,
   "metadata": {},
   "outputs": [],
   "source": [
    "# DTW Distance between 2 given time series (a, b)\n",
    "def dtw_distance(series_a, series_b):\n",
    "    n, m = len(series_a), len(series_b)\n",
    "    dtw_matrix = np.full((n + 1, m + 1), np.inf)\n",
    "    dtw_matrix[0, 0] = 0\n",
    "\n",
    "    for i in range(1, n + 1):\n",
    "        for j in range(1, m + 1):\n",
    "            cost = euclidean_distance(series_a[i - 1], series_b[j - 1])\n",
    "            dtw_matrix[i, j] = cost + min(dtw_matrix[i - 1, j - 1],\n",
    "                                          dtw_matrix[i - 1, j],    \n",
    "                                          dtw_matrix[i, j - 1])   \n",
    "                                           \n",
    "    \n",
    "    return dtw_matrix[n, m]"
   ]
  },
  {
   "cell_type": "code",
   "execution_count": null,
   "metadata": {},
   "outputs": [
    {
     "name": "stdout",
     "output_type": "stream",
     "text": [
      "Total time taken: 2730.1174 seconds\n"
     ]
    }
   ],
   "source": [
    "import time\n",
    "\n",
    "# Compute DTW distances between all given sets of time series\n",
    "results = []\n",
    "start_time = time.time()\n",
    "\n",
    "for idx, row in data.iterrows():\n",
    "    distance = dtw_distance(row['series_a'], row['series_b'])\n",
    "    results.append([idx + 1, distance])\n",
    "\n",
    "end_time = time.time()\n",
    "time_taken = end_time - start_time\n",
    "print(f'Total time taken: {time_taken:.4f} seconds')"
   ]
  },
  {
   "cell_type": "code",
   "execution_count": null,
   "metadata": {},
   "outputs": [],
   "source": [
    "# Save results to CSV\n",
    "results_df = pd.DataFrame(results, columns=['id', 'DTW distance'])\n",
    "results_df.to_csv('dtw.csv', index=False)"
   ]
  }
 ],
 "metadata": {
  "kernelspec": {
   "display_name": "llm",
   "language": "python",
   "name": "python3"
  },
  "language_info": {
   "codemirror_mode": {
    "name": "ipython",
    "version": 3
   },
   "file_extension": ".py",
   "mimetype": "text/x-python",
   "name": "python",
   "nbconvert_exporter": "python",
   "pygments_lexer": "ipython3",
   "version": "3.12.8"
  }
 },
 "nbformat": 4,
 "nbformat_minor": 2
}
