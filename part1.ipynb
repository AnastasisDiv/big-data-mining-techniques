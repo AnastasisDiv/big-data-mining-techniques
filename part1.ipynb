{
  "cells": [
    {
      "cell_type": "code",
      "execution_count": 1,
      "metadata": {
        "colab": {
          "base_uri": "https://localhost:8080/"
        },
        "id": "6yI7Op2FKrLz",
        "outputId": "5d3390e8-39d8-4e68-dab6-af43b6553efc"
      },
      "outputs": [
        {
          "name": "stdout",
          "output_type": "stream",
          "text": [
            "Requirement already satisfied: scikit-learn in c:\\users\\anastasis\\miniconda3\\lib\\site-packages (1.6.1)\n",
            "Requirement already satisfied: keras in c:\\users\\anastasis\\miniconda3\\lib\\site-packages (3.8.0)\n",
            "Requirement already satisfied: tensorflow in c:\\users\\anastasis\\miniconda3\\lib\\site-packages (2.18.0)\n",
            "Requirement already satisfied: pandas in c:\\users\\anastasis\\miniconda3\\lib\\site-packages (2.2.3)\n",
            "Requirement already satisfied: matplotlib in c:\\users\\anastasis\\miniconda3\\lib\\site-packages (3.10.0)\n",
            "Requirement already satisfied: numpy>=1.19.5 in c:\\users\\anastasis\\miniconda3\\lib\\site-packages (from scikit-learn) (2.0.2)\n",
            "Requirement already satisfied: scipy>=1.6.0 in c:\\users\\anastasis\\miniconda3\\lib\\site-packages (from scikit-learn) (1.15.1)\n",
            "Requirement already satisfied: joblib>=1.2.0 in c:\\users\\anastasis\\miniconda3\\lib\\site-packages (from scikit-learn) (1.4.2)\n",
            "Requirement already satisfied: threadpoolctl>=3.1.0 in c:\\users\\anastasis\\miniconda3\\lib\\site-packages (from scikit-learn) (3.5.0)\n",
            "Requirement already satisfied: h5py in c:\\users\\anastasis\\miniconda3\\lib\\site-packages (from keras) (3.12.1)\n",
            "Requirement already satisfied: namex in c:\\users\\anastasis\\miniconda3\\lib\\site-packages (from keras) (0.0.8)\n",
            "Requirement already satisfied: optree in c:\\users\\anastasis\\miniconda3\\lib\\site-packages (from keras) (0.14.0)\n",
            "Requirement already satisfied: rich in c:\\users\\anastasis\\miniconda3\\lib\\site-packages (from keras) (13.9.4)\n",
            "Requirement already satisfied: packaging in c:\\users\\anastasis\\miniconda3\\lib\\site-packages (from keras) (24.2)\n",
            "Requirement already satisfied: absl-py in c:\\users\\anastasis\\miniconda3\\lib\\site-packages (from keras) (2.1.0)\n",
            "Requirement already satisfied: ml-dtypes in c:\\users\\anastasis\\miniconda3\\lib\\site-packages (from keras) (0.4.1)\n",
            "Requirement already satisfied: tensorflow-intel==2.18.0 in c:\\users\\anastasis\\miniconda3\\lib\\site-packages (from tensorflow) (2.18.0)\n",
            "Requirement already satisfied: flatbuffers>=24.3.25 in c:\\users\\anastasis\\miniconda3\\lib\\site-packages (from tensorflow-intel==2.18.0->tensorflow) (25.1.24)\n",
            "Requirement already satisfied: astunparse>=1.6.0 in c:\\users\\anastasis\\miniconda3\\lib\\site-packages (from tensorflow-intel==2.18.0->tensorflow) (1.6.3)\n",
            "Requirement already satisfied: google-pasta>=0.1.1 in c:\\users\\anastasis\\miniconda3\\lib\\site-packages (from tensorflow-intel==2.18.0->tensorflow) (0.2.0)\n",
            "Requirement already satisfied: termcolor>=1.1.0 in c:\\users\\anastasis\\miniconda3\\lib\\site-packages (from tensorflow-intel==2.18.0->tensorflow) (2.5.0)\n",
            "Requirement already satisfied: six>=1.12.0 in c:\\users\\anastasis\\miniconda3\\lib\\site-packages (from tensorflow-intel==2.18.0->tensorflow) (1.16.0)\n",
            "Requirement already satisfied: typing-extensions>=3.6.6 in c:\\users\\anastasis\\miniconda3\\lib\\site-packages (from tensorflow-intel==2.18.0->tensorflow) (4.12.2)\n",
            "Requirement already satisfied: wrapt>=1.11.0 in c:\\users\\anastasis\\miniconda3\\lib\\site-packages (from tensorflow-intel==2.18.0->tensorflow) (1.17.2)\n",
            "Requirement already satisfied: gast!=0.5.0,!=0.5.1,!=0.5.2,>=0.2.1 in c:\\users\\anastasis\\miniconda3\\lib\\site-packages (from tensorflow-intel==2.18.0->tensorflow) (0.6.0)\n",
            "Requirement already satisfied: libclang>=13.0.0 in c:\\users\\anastasis\\miniconda3\\lib\\site-packages (from tensorflow-intel==2.18.0->tensorflow) (18.1.1)\n",
            "Requirement already satisfied: protobuf!=4.21.0,!=4.21.1,!=4.21.2,!=4.21.3,!=4.21.4,!=4.21.5,<6.0.0dev,>=3.20.3 in c:\\users\\anastasis\\miniconda3\\lib\\site-packages (from tensorflow-intel==2.18.0->tensorflow) (5.29.3)\n",
            "Requirement already satisfied: opt-einsum>=2.3.2 in c:\\users\\anastasis\\miniconda3\\lib\\site-packages (from tensorflow-intel==2.18.0->tensorflow) (3.4.0)\n",
            "Requirement already satisfied: tensorboard<2.19,>=2.18 in c:\\users\\anastasis\\miniconda3\\lib\\site-packages (from tensorflow-intel==2.18.0->tensorflow) (2.18.0)\n",
            "Requirement already satisfied: grpcio<2.0,>=1.24.3 in c:\\users\\anastasis\\miniconda3\\lib\\site-packages (from tensorflow-intel==2.18.0->tensorflow) (1.70.0)\n",
            "Requirement already satisfied: setuptools in c:\\users\\anastasis\\miniconda3\\lib\\site-packages (from tensorflow-intel==2.18.0->tensorflow) (65.6.3)\n",
            "Requirement already satisfied: tensorflow-io-gcs-filesystem>=0.23.1 in c:\\users\\anastasis\\miniconda3\\lib\\site-packages (from tensorflow-intel==2.18.0->tensorflow) (0.31.0)\n",
            "Requirement already satisfied: requests<3,>=2.21.0 in c:\\users\\anastasis\\miniconda3\\lib\\site-packages (from tensorflow-intel==2.18.0->tensorflow) (2.28.1)\n",
            "Requirement already satisfied: python-dateutil>=2.8.2 in c:\\users\\anastasis\\miniconda3\\lib\\site-packages (from pandas) (2.9.0.post0)\n",
            "Requirement already satisfied: pytz>=2020.1 in c:\\users\\anastasis\\miniconda3\\lib\\site-packages (from pandas) (2025.1)\n",
            "Requirement already satisfied: tzdata>=2022.7 in c:\\users\\anastasis\\miniconda3\\lib\\site-packages (from pandas) (2025.1)\n",
            "Requirement already satisfied: fonttools>=4.22.0 in c:\\users\\anastasis\\miniconda3\\lib\\site-packages (from matplotlib) (4.55.8)\n",
            "Requirement already satisfied: pillow>=8 in c:\\users\\anastasis\\miniconda3\\lib\\site-packages (from matplotlib) (11.1.0)\n",
            "Requirement already satisfied: kiwisolver>=1.3.1 in c:\\users\\anastasis\\miniconda3\\lib\\site-packages (from matplotlib) (1.4.8)\n",
            "Requirement already satisfied: cycler>=0.10 in c:\\users\\anastasis\\miniconda3\\lib\\site-packages (from matplotlib) (0.12.1)\n",
            "Requirement already satisfied: pyparsing>=2.3.1 in c:\\users\\anastasis\\miniconda3\\lib\\site-packages (from matplotlib) (3.2.1)\n",
            "Requirement already satisfied: contourpy>=1.0.1 in c:\\users\\anastasis\\miniconda3\\lib\\site-packages (from matplotlib) (1.3.1)\n",
            "Requirement already satisfied: pygments<3.0.0,>=2.13.0 in c:\\users\\anastasis\\miniconda3\\lib\\site-packages (from rich->keras) (2.19.1)\n",
            "Requirement already satisfied: markdown-it-py>=2.2.0 in c:\\users\\anastasis\\miniconda3\\lib\\site-packages (from rich->keras) (3.0.0)\n",
            "Requirement already satisfied: wheel<1.0,>=0.23.0 in c:\\users\\anastasis\\miniconda3\\lib\\site-packages (from astunparse>=1.6.0->tensorflow-intel==2.18.0->tensorflow) (0.37.1)\n",
            "Requirement already satisfied: mdurl~=0.1 in c:\\users\\anastasis\\miniconda3\\lib\\site-packages (from markdown-it-py>=2.2.0->rich->keras) (0.1.2)\n",
            "Requirement already satisfied: idna<4,>=2.5 in c:\\users\\anastasis\\miniconda3\\lib\\site-packages (from requests<3,>=2.21.0->tensorflow-intel==2.18.0->tensorflow) (3.4)\n",
            "Requirement already satisfied: charset-normalizer<3,>=2 in c:\\users\\anastasis\\miniconda3\\lib\\site-packages (from requests<3,>=2.21.0->tensorflow-intel==2.18.0->tensorflow) (2.0.4)\n",
            "Requirement already satisfied: certifi>=2017.4.17 in c:\\users\\anastasis\\miniconda3\\lib\\site-packages (from requests<3,>=2.21.0->tensorflow-intel==2.18.0->tensorflow) (2024.12.14)\n",
            "Requirement already satisfied: urllib3<1.27,>=1.21.1 in c:\\users\\anastasis\\miniconda3\\lib\\site-packages (from requests<3,>=2.21.0->tensorflow-intel==2.18.0->tensorflow) (1.26.14)\n",
            "Requirement already satisfied: tensorboard-data-server<0.8.0,>=0.7.0 in c:\\users\\anastasis\\miniconda3\\lib\\site-packages (from tensorboard<2.19,>=2.18->tensorflow-intel==2.18.0->tensorflow) (0.7.2)\n",
            "Requirement already satisfied: werkzeug>=1.0.1 in c:\\users\\anastasis\\miniconda3\\lib\\site-packages (from tensorboard<2.19,>=2.18->tensorflow-intel==2.18.0->tensorflow) (3.1.3)\n",
            "Requirement already satisfied: markdown>=2.6.8 in c:\\users\\anastasis\\miniconda3\\lib\\site-packages (from tensorboard<2.19,>=2.18->tensorflow-intel==2.18.0->tensorflow) (3.7)\n",
            "Requirement already satisfied: MarkupSafe>=2.1.1 in c:\\users\\anastasis\\miniconda3\\lib\\site-packages (from werkzeug>=1.0.1->tensorboard<2.19,>=2.18->tensorflow-intel==2.18.0->tensorflow) (3.0.2)\n",
            "Note: you may need to restart the kernel to use updated packages.\n",
            "Requirement already satisfied: numpy in c:\\users\\anastasis\\miniconda3\\lib\\site-packages (2.0.2)\n",
            "Requirement already satisfied: pandas in c:\\users\\anastasis\\miniconda3\\lib\\site-packages (2.2.3)\n",
            "Requirement already satisfied: nltk in c:\\users\\anastasis\\miniconda3\\lib\\site-packages (3.9.1)\n",
            "Requirement already satisfied: datasketch in c:\\users\\anastasis\\miniconda3\\lib\\site-packages (1.6.5)\n",
            "Requirement already satisfied: pytz>=2020.1 in c:\\users\\anastasis\\miniconda3\\lib\\site-packages (from pandas) (2025.1)\n",
            "Requirement already satisfied: python-dateutil>=2.8.2 in c:\\users\\anastasis\\miniconda3\\lib\\site-packages (from pandas) (2.9.0.post0)\n",
            "Requirement already satisfied: tzdata>=2022.7 in c:\\users\\anastasis\\miniconda3\\lib\\site-packages (from pandas) (2025.1)\n",
            "Requirement already satisfied: joblib in c:\\users\\anastasis\\miniconda3\\lib\\site-packages (from nltk) (1.4.2)\n",
            "Requirement already satisfied: regex>=2021.8.3 in c:\\users\\anastasis\\miniconda3\\lib\\site-packages (from nltk) (2024.11.6)\n",
            "Requirement already satisfied: click in c:\\users\\anastasis\\miniconda3\\lib\\site-packages (from nltk) (8.1.8)\n",
            "Requirement already satisfied: tqdm in c:\\users\\anastasis\\miniconda3\\lib\\site-packages (from nltk) (4.64.1)\n",
            "Requirement already satisfied: scipy>=1.0.0 in c:\\users\\anastasis\\miniconda3\\lib\\site-packages (from datasketch) (1.15.1)\n",
            "Requirement already satisfied: six>=1.5 in c:\\users\\anastasis\\miniconda3\\lib\\site-packages (from python-dateutil>=2.8.2->pandas) (1.16.0)\n",
            "Requirement already satisfied: colorama in c:\\users\\anastasis\\miniconda3\\lib\\site-packages (from click->nltk) (0.4.6)\n",
            "Note: you may need to restart the kernel to use updated packages.\n"
          ]
        }
      ],
      "source": [
        "%pip install scikit-learn keras tensorflow pandas matplotlib\n",
        "%pip install numpy pandas nltk datasketch"
      ]
    },
    {
      "cell_type": "markdown",
      "metadata": {
        "id": "j3QIdFxMMuk9"
      },
      "source": [
        "## Load and Preprocess the Datasets"
      ]
    },
    {
      "cell_type": "code",
      "execution_count": 1,
      "metadata": {
        "id": "3jQXq-S6Nwwa"
      },
      "outputs": [
        {
          "name": "stdout",
          "output_type": "stream",
          "text": [
            "       Id                                              Title  \\\n",
            "0  227464  Netflix is coming to cable boxes, and Amazon i...   \n",
            "1  244074  Pharrell, Iranian President React to Tehran 'H...   \n",
            "2   60707                    Wildlife service seeks comments   \n",
            "3   27883  Facebook teams up with Storyful to launch 'FB ...   \n",
            "4  169596           Caesars plans US$880 mln New York casino   \n",
            "\n",
            "                                             Content          Label  \n",
            "0   if you subscribe to one of three rinky-dink (...  Entertainment  \n",
            "1   pharrell, iranian president react to tehran '...  Entertainment  \n",
            "2   the u.s. fish and wildlife service has reopen...     Technology  \n",
            "3   the very nature of social media means it is o...     Technology  \n",
            "4   caesars plans us$880 mln new york casino jul ...       Business  \n"
          ]
        }
      ],
      "source": [
        "import pandas as pd\n",
        "\n",
        "# Load the train and test datasets\n",
        "train_data = pd.read_csv('train.csv', sep=',')\n",
        "test_data = pd.read_csv('test_without_labels.csv', sep=',')\n",
        "\n",
        "print(train_data.head())"
      ]
    },
    {
      "cell_type": "code",
      "execution_count": null,
      "metadata": {},
      "outputs": [],
      "source": [
        "import nltk\n",
        "from nltk.corpus import stopwords\n",
        "\n",
        "# Load stopwords from nltk and convert to set for fast lookup\n",
        "nltk.download('stopwords')\n",
        "stop_words = set(stopwords.words('english'))"
      ]
    },
    {
      "cell_type": "code",
      "execution_count": 3,
      "metadata": {},
      "outputs": [],
      "source": [
        "import re\n",
        "\n",
        "# Preprocessing function - Remove punctuation, numbers and stopwords\n",
        "def preprocess_text(text):\n",
        "    if pd.isna(text):   # Handle NaN cases\n",
        "        return ''\n",
        "    text = text.lower()\n",
        "    text = re.sub(r'[^\\w\\s]', ' ', text)  # Remove punctuation\n",
        "    text = re.sub(r'\\d+', ' ', text)  # Remove numbers\n",
        "    text = [word for word in text.split() if word not in stop_words]  # Remove stopwords\n",
        "    text = ' '.join(text)\n",
        "    return text"
      ]
    },
    {
      "cell_type": "code",
      "execution_count": 4,
      "metadata": {
        "id": "3fX62h1oiuh_"
      },
      "outputs": [],
      "source": [
        "# Combine 'Title' and 'Content' to one column (give Title 5 times more weight) - apply preprocessing\n",
        "X_train = (5 * (train_data['Title'] + ' ') + train_data['Content']).apply(preprocess_text)\n",
        "y_train = train_data['Label'].to_numpy()\n",
        "\n",
        "X_test = (5 * (test_data['Title'] + ' ') + test_data['Content']).apply(preprocess_text)"
      ]
    },
    {
      "cell_type": "code",
      "execution_count": 5,
      "metadata": {
        "id": "4KhAJorJjJdc"
      },
      "outputs": [],
      "source": [
        "from sklearn.feature_extraction.text import CountVectorizer\n",
        "\n",
        "# Numerical representation (bag of words)\n",
        "vectorizer = CountVectorizer()\n",
        "X_train_vectorized = vectorizer.fit_transform(X_train)\n",
        "X_test_vectorized = vectorizer.transform(X_test)"
      ]
    },
    {
      "cell_type": "markdown",
      "metadata": {},
      "source": [
        "## 5-Fold Cross-Validation"
      ]
    },
    {
      "cell_type": "code",
      "execution_count": 6,
      "metadata": {},
      "outputs": [],
      "source": [
        "from sklearn.model_selection import cross_val_score"
      ]
    },
    {
      "cell_type": "code",
      "execution_count": 7,
      "metadata": {
        "id": "bKCIqaQfqXKp"
      },
      "outputs": [
        {
          "name": "stdout",
          "output_type": "stream",
          "text": [
            "SVM Accuracy (5-Fold CV on Subset): 0.9430654578162029\n"
          ]
        }
      ],
      "source": [
        "from sklearn.svm import SVC\n",
        "\n",
        "# 5-Fold Cross-Validation SVM\n",
        "svm = SVC()\n",
        "svm_scores = cross_val_score(svm, X_train_vectorized, y_train, cv=5)\n",
        "print('SVM Accuracy (5-Fold CV on Subset):', svm_scores.mean())"
      ]
    },
    {
      "cell_type": "code",
      "execution_count": 8,
      "metadata": {
        "colab": {
          "background_save": true
        },
        "id": "tf2q-NXkqp9J"
      },
      "outputs": [
        {
          "name": "stdout",
          "output_type": "stream",
          "text": [
            "Random Forest Accuracy (5-Fold CV on Subset): 0.9212487141643187\n"
          ]
        }
      ],
      "source": [
        "from sklearn.ensemble import RandomForestClassifier\n",
        "\n",
        "# 5-Fold Cross-Validation Random Forest\n",
        "rf = RandomForestClassifier()\n",
        "rf_scores = cross_val_score(rf, X_train_vectorized, y_train, cv=5)\n",
        "print('Random Forest Accuracy (5-Fold CV on Subset):', rf_scores.mean())"
      ]
    },
    {
      "cell_type": "markdown",
      "metadata": {},
      "source": [
        "## Train and Predict"
      ]
    },
    {
      "cell_type": "code",
      "execution_count": 9,
      "metadata": {
        "id": "QRNMiNjquwCg"
      },
      "outputs": [
        {
          "name": "stdout",
          "output_type": "stream",
          "text": [
            "Output file 'testSet_categories_svm_prep.csv' created successfully.\n"
          ]
        }
      ],
      "source": [
        "# Train with SVM\n",
        "svm.fit(X_train_vectorized, y_train) \n",
        "\n",
        "# Predict the labels for the test data\n",
        "predictions = svm.predict(X_test_vectorized)\n",
        "\n",
        "# Write result to file (for Kaggle)\n",
        "output_df = pd.DataFrame({'Id': test_data['Id'], 'Predicted': predictions})\n",
        "output_df.to_csv('testSet_categories_svm_prep.csv', index=False)\n",
        "print(\"Output file 'testSet_categories_svm_prep.csv' created successfully.\")"
      ]
    },
    {
      "cell_type": "code",
      "execution_count": 10,
      "metadata": {
        "id": "4bhZo1R6trs_"
      },
      "outputs": [
        {
          "name": "stdout",
          "output_type": "stream",
          "text": [
            "Output file 'testSet_categories_rf_prep.csv' created successfully.\n"
          ]
        }
      ],
      "source": [
        "# Train with Random Forest\n",
        "rf.fit(X_train_vectorized, y_train)\n",
        "\n",
        "# Predict the labels for the test data\n",
        "predictions = rf.predict(X_test_vectorized)\n",
        "\n",
        "# Write result to file (for Kaggle)\n",
        "output_df = pd.DataFrame({'Id': test_data['Id'], 'Predicted': predictions})\n",
        "output_df.to_csv('testSet_categories_rf_prep.csv', index=False)\n",
        "print(\"Output file 'testSet_categories_rf_prep.csv' created successfully.\")"
      ]
    }
  ],
  "metadata": {
    "colab": {
      "provenance": [],
      "toc_visible": true
    },
    "kernelspec": {
      "display_name": "llm",
      "language": "python",
      "name": "python3"
    },
    "language_info": {
      "codemirror_mode": {
        "name": "ipython",
        "version": 3
      },
      "file_extension": ".py",
      "mimetype": "text/x-python",
      "name": "python",
      "nbconvert_exporter": "python",
      "pygments_lexer": "ipython3",
      "version": "3.12.8"
    }
  },
  "nbformat": 4,
  "nbformat_minor": 0
}
